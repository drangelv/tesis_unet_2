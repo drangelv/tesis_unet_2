{
 "cells": [
  {
   "cell_type": "markdown",
   "id": "ed4b24dc",
   "metadata": {},
   "source": [
    "# Visualización del Dataset Trusted 12x6\n",
    "\n",
    "Este notebook muestra cómo se estructura y visualiza el dataset trusted que contiene secuencias de 12 frames de entrada y 6 frames de salida."
   ]
  },
  {
   "cell_type": "code",
   "execution_count": null,
   "id": "9bdedf7e",
   "metadata": {},
   "outputs": [],
   "source": [
    "import os\n",
    "import h5py\n",
    "import numpy as np\n",
    "import matplotlib.pyplot as plt\n",
    "from datetime import datetime\n",
    "import sys\n",
    "sys.path.append('..')\n",
    "from src.visualization.visualizer import setup_custom_cmap\n",
    "\n",
    "# Configurar matplotlib\n",
    "plt.style.use('dark_background')\n",
    "%matplotlib inline"
   ]
  },
  {
   "cell_type": "code",
   "execution_count": null,
   "id": "9271cacf",
   "metadata": {},
   "outputs": [],
   "source": [
    "# Cargar dataset trusted\n",
    "dataset_path = \"../inputs/data_trusted_12x6.h5\"\n",
    "with h5py.File(dataset_path, \"r\") as h5_file:\n",
    "    # Mostrar información del dataset\n",
    "    print(\"Información del dataset:\")\n",
    "    print(f\"Fecha de creación: {h5_file.attrs['created_date']}\")\n",
    "    print(f\"Frames de entrada: {h5_file.attrs['input_frames']}\")\n",
    "    print(f\"Frames de salida: {h5_file.attrs['output_frames']}\")\n",
    "    print(\"\\nEstructura del archivo:\")\n",
    "    print(\"- inputs/\")\n",
    "    print(\"- targets/\")\n",
    "    print(\"- timestamps/\")\n",
    "    \n",
    "    # Mostrar número de secuencias\n",
    "    n_sequences = len(h5_file['inputs'])\n",
    "    print(f\"\\nNúmero total de secuencias: {n_sequences}\")"
   ]
  },
  {
   "cell_type": "code",
   "execution_count": null,
   "id": "2754ab65",
   "metadata": {},
   "outputs": [],
   "source": [
    "def visualize_sequence(sequence_idx):\n",
    "    \"\"\"Visualiza una secuencia completa del dataset\"\"\"\n",
    "    with h5py.File(dataset_path, \"r\") as h5_file:\n",
    "        # Obtener datos\n",
    "        seq_name = f\"sequence_{sequence_idx:05d}\"\n",
    "        inputs = h5_file['inputs'][seq_name][:]\n",
    "        targets = h5_file['targets'][seq_name][:]\n",
    "        \n",
    "        # Obtener timestamps\n",
    "        input_timestamps = [ts.decode() for ts in h5_file['timestamps'][f\"{seq_name}_input\"][:]]\n",
    "        target_timestamps = [ts.decode() for ts in h5_file['timestamps'][f\"{seq_name}_target\"][:]]\n",
    "        \n",
    "        # Configurar visualización\n",
    "        n_rows = 2\n",
    "        n_cols = max(len(inputs), len(targets))\n",
    "        fig = plt.figure(figsize=(20, 8))\n",
    "        \n",
    "        # Configurar colormap\n",
    "        custom_cmap = setup_custom_cmap()\n",
    "        \n",
    "        # Mostrar frames de entrada\n",
    "        for i, (frame, ts) in enumerate(zip(inputs, input_timestamps)):\n",
    "            ax = plt.subplot(n_rows, n_cols, i + 1)\n",
    "            im = ax.imshow(frame, cmap=custom_cmap, vmin=0, vmax=100)\n",
    "            ax.set_title(f'Input {i+1}\\n{datetime.strptime(ts, \"%Y_%m_%d_%H_%M_%S\").strftime(\"%Y-%m-%d %H:%M\")}')\n",
    "            ax.axis('off')\n",
    "        \n",
    "        # Mostrar frames objetivo\n",
    "        for i, (frame, ts) in enumerate(zip(targets, target_timestamps)):\n",
    "            ax = plt.subplot(n_rows, n_cols, n_cols + i + 1)\n",
    "            im = ax.imshow(frame, cmap=custom_cmap, vmin=0, vmax=100)\n",
    "            ax.set_title(f'Target {i+1}\\n{datetime.strptime(ts, \"%Y_%m_%d_%H_%M_%S\").strftime(\"%Y-%m-%d %H:%M\")}')\n",
    "            ax.axis('off')\n",
    "        \n",
    "        # Añadir colorbar\n",
    "        cbar_ax = fig.add_axes([0.92, 0.15, 0.02, 0.7])\n",
    "        cbar = plt.colorbar(im, cax=cbar_ax, orientation='vertical')\n",
    "        cbar.set_label('Intensidad (0-100)', fontsize=10)\n",
    "        \n",
    "        plt.suptitle(f'Secuencia {sequence_idx}', y=1.05, fontsize=14)\n",
    "        plt.tight_layout()\n",
    "        plt.show()"
   ]
  },
  {
   "cell_type": "code",
   "execution_count": null,
   "id": "a2dcbefd",
   "metadata": {},
   "outputs": [],
   "source": [
    "# Visualizar algunas secuencias de ejemplo\n",
    "for idx in range(3):\n",
    "    visualize_sequence(idx)\n",
    "    print(\"\\n\" + \"=\"*80 + \"\\n\")"
   ]
  },
  {
   "cell_type": "markdown",
   "id": "406f8b4e",
   "metadata": {},
   "source": [
    "## Análisis de las Secuencias\n",
    "\n",
    "Podemos ver que:\n",
    "1. Las secuencias de entrada (12 frames) se muestran en la fila superior\n",
    "2. Las secuencias objetivo (6 frames) se muestran en la fila inferior\n",
    "3. Cada frame mantiene su timestamp original\n",
    "4. La intensidad está normalizada entre 0 y 100\n",
    "5. Se usa la misma paleta de colores que en el entrenamiento"
   ]
  }
 ],
 "metadata": {
  "language_info": {
   "name": "python"
  }
 },
 "nbformat": 4,
 "nbformat_minor": 5
}
